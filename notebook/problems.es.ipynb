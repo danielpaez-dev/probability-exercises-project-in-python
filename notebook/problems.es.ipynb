{
 "cells": [
  {
   "cell_type": "markdown",
   "id": "a41f3622",
   "metadata": {},
   "source": [
    "# Ejercicios de probabilidad"
   ]
  },
  {
   "cell_type": "markdown",
   "id": "a6bdbd89",
   "metadata": {},
   "source": [
    "## Ejercicio 1 \n",
    "\n",
    "Dos dados se lanzan una vez y se observa el total obtenido. Usa una simulación para encontrar la probabilidad estimada de que la puntuación sea mayor a 7 o un número par. Una simulación es una repetición del mismo experimento multiples veces para observar su comportamiento:\n",
    "\n",
    "- Ejecuta el experimento 1000 veces (lanza 2 dados 1000 veces, y suma el número de ambos dados).\n",
    "- Lleva una cuenta de los números y las veces que la suma fue mayor a 7 o un número par.\n",
    "- Divide el número del paso 2 entre el número de iteraciones(1000)."
   ]
  },
  {
   "cell_type": "code",
   "execution_count": 1,
   "id": "8939d892",
   "metadata": {},
   "outputs": [
    {
     "name": "stdout",
     "output_type": "stream",
     "text": [
      "La probabilidad de que la puntuación entre ambos dados sea mayor a 7 o que uno de los números que saquemos sea par es del 0.685\n"
     ]
    }
   ],
   "source": [
    "import numpy as np\n",
    "import random\n",
    "\n",
    "e = np.arange(1,7)\n",
    "\n",
    "def simulation(e: list[int], n_times: int = 1000):\n",
    "    favorable_cases = 0\n",
    "    for i in range(n_times):\n",
    "        current_experiment = experiment(e, 2)\n",
    "        if current_experiment > 7 or current_experiment % 2 == 0:\n",
    "            favorable_cases += 1\n",
    "    return favorable_cases / n_times\n",
    "\n",
    "def experiment(e, e_times = 2):\n",
    "    x = 0\n",
    "    for i in range(2):\n",
    "        x += random.randint(min(e), max(e))\n",
    "    return x\n",
    "\n",
    "print(f'La probabilidad de que la puntuación entre ambos dados sea mayor a 7 o que uno de los números que saquemos sea par es del {simulation(e, 1000)}')"
   ]
  },
  {
   "cell_type": "markdown",
   "id": "55732bca",
   "metadata": {},
   "source": [
    "## Ejercicio 2\n",
    "\n",
    "Una caja contiene 10 bolas blancas, 20 bolas rojas y 30 bolas verdes. Si tomamos 5 bolas de la caja reemplazándolas (tomando una bola, anotando el color y luego regresandola a la caja). Queremos saber la probabilidad de:\n",
    "\n",
    "1. Tomar 3 blancas y 2 rojas.\n",
    "2. Tomar todas del mismo color.\n",
    "\n",
    "Ejecuta el experimento 1000 veces y calcula las probabilidades que mencionadas."
   ]
  },
  {
   "cell_type": "code",
   "execution_count": null,
   "id": "23244d20",
   "metadata": {},
   "outputs": [
    {
     "name": "stdout",
     "output_type": "stream",
     "text": [
      "La probabilidad de tomar 3 bolas de color blanco y 2 de color rojo de la caja es de 0.028 y de que todas sean del mismo color es de 0.025\n"
     ]
    }
   ],
   "source": [
    "ball_box = {}\n",
    "\n",
    "# Crea la cajas con las bolas\n",
    "for i in range(60):\n",
    "    if i < 10:\n",
    "        ball_box[i] = \"White\"\n",
    "    elif (i > 9) and (i < 30):\n",
    "        ball_box[i] = \"Red\"\n",
    "    else:\n",
    "        ball_box[i] = \"Green\"\n",
    "\n",
    "            \n",
    "def simulation(ball_box, n_times = 1000):\n",
    "    event_count = {\n",
    "        'three_white_two_red': 0,\n",
    "        'all_same_colors': 0\n",
    "    }\n",
    "\n",
    "    for _ in range(n_times):\n",
    "        current_experiment = experiment(ball_box, 5)\n",
    "        if probability(current_experiment).get('three_white_two_red', True):\n",
    "            event_count['three_white_two_red'] += 1\n",
    "        elif probability(current_experiment).get('all_same_colors', True):\n",
    "            event_count['all_same_colors'] += 1\n",
    "    \n",
    "    probability_three_white_two_red = event_count['three_white_two_red'] / n_times\n",
    "    probability_all_same_colors = event_count['all_same_colors'] / n_times\n",
    "    probabilities = (probability_three_white_two_red, probability_all_same_colors)\n",
    "\n",
    "    return probabilities\n",
    "\n",
    "\n",
    "\n",
    "def experiment(ball_box, n_balls = 5):\n",
    "    obtained_balls = []\n",
    "\n",
    "    for _ in range(n_balls):\n",
    "        random_ball = random.randint(0,59)\n",
    "        obtained_balls.append(ball_box[random_ball])\n",
    "    \n",
    "    return obtained_balls\n",
    "\n",
    "\n",
    "\n",
    "def probability(current_experiment):\n",
    "    conditions = {\n",
    "        'three_white_two_red': False,\n",
    "        'all_same_colors': False\n",
    "    }\n",
    "\n",
    "    for _ in range(1, 5):\n",
    "        if len(set(current_experiment)) == 1:\n",
    "            conditions['three_white_two_red'] = True\n",
    "        if current_experiment.count('White') == 3 and current_experiment.count('Red'):\n",
    "            conditions['all_same_colors'] = True\n",
    "    \n",
    "    return conditions\n",
    "    \n",
    "\n",
    "\n",
    "estimated_probabilities = simulation(ball_box, 1000)\n",
    "print(f'La probabilidad de tomar 3 bolas de color blanco y 2 de color rojo de la caja es de {estimated_probabilities[0]} y de que todas sean del mismo color es de {estimated_probabilities[1]}')"
   ]
  }
 ],
 "metadata": {
  "kernelspec": {
   "display_name": "Python 3",
   "language": "python",
   "name": "python3"
  },
  "language_info": {
   "codemirror_mode": {
    "name": "ipython",
    "version": 3
   },
   "file_extension": ".py",
   "mimetype": "text/x-python",
   "name": "python",
   "nbconvert_exporter": "python",
   "pygments_lexer": "ipython3",
   "version": "3.11.4"
  }
 },
 "nbformat": 4,
 "nbformat_minor": 5
}
